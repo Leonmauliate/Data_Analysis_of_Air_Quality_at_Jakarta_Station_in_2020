{
  "nbformat": 4,
  "nbformat_minor": 0,
  "metadata": {
    "colab": {
      "provenance": []
    },
    "kernelspec": {
      "name": "python3",
      "display_name": "Python 3"
    },
    "language_info": {
      "name": "python"
    }
  },
  "cells": [
    {
      "cell_type": "markdown",
      "source": [
        "**TUGAS KAPITA SELEKTA STATISTIKA**\n",
        "\n",
        "Kelompok Murid Prof:\n",
        "\n",
        "1. Kenneth Holivianto   \\ 6162001018\n",
        "2. Jason Hinardi        \\ 6162001022\n",
        "3. Bryan Ernestin       \\ 6162001097\n",
        "4. Leonardo Alindra     \\ 6162001111"
      ],
      "metadata": {
        "id": "UjXIp9VMvVr-"
      }
    },
    {
      "cell_type": "markdown",
      "source": [
        "# **Pemrosesan Data**"
      ],
      "metadata": {
        "id": "Bqof-cba7xnv"
      }
    },
    {
      "cell_type": "code",
      "execution_count": null,
      "metadata": {
        "colab": {
          "base_uri": "https://localhost:8080/"
        },
        "id": "HCO3M5yMmboa",
        "outputId": "11b71381-4818-4269-fe54-1c4b548bf20c"
      },
      "outputs": [
        {
          "output_type": "stream",
          "name": "stdout",
          "text": [
            "Collecting pyspark\n",
            "  Downloading pyspark-3.4.1.tar.gz (310.8 MB)\n",
            "\u001b[2K     \u001b[90m━━━━━━━━━━━━━━━━━━━━━━━━━━━━━━━━━━━━━━━\u001b[0m \u001b[32m310.8/310.8 MB\u001b[0m \u001b[31m4.3 MB/s\u001b[0m eta \u001b[36m0:00:00\u001b[0m\n",
            "\u001b[?25h  Preparing metadata (setup.py) ... \u001b[?25l\u001b[?25hdone\n",
            "Requirement already satisfied: py4j==0.10.9.7 in /usr/local/lib/python3.10/dist-packages (from pyspark) (0.10.9.7)\n",
            "Building wheels for collected packages: pyspark\n",
            "  Building wheel for pyspark (setup.py) ... \u001b[?25l\u001b[?25hdone\n",
            "  Created wheel for pyspark: filename=pyspark-3.4.1-py2.py3-none-any.whl size=311285398 sha256=5a075da50a926a6f063acff840afea37e8c4433d92aecba0d83fcea947d03edd\n",
            "  Stored in directory: /root/.cache/pip/wheels/0d/77/a3/ff2f74cc9ab41f8f594dabf0579c2a7c6de920d584206e0834\n",
            "Successfully built pyspark\n",
            "Installing collected packages: pyspark\n",
            "Successfully installed pyspark-3.4.1\n"
          ]
        }
      ],
      "source": [
        "# Instalasi pyspark\n",
        "!pip install pyspark"
      ]
    },
    {
      "cell_type": "code",
      "source": [
        "# Import library yang digunakan\n",
        "import requests\n",
        "from pyspark.sql import SparkSession\n",
        "from pyspark.sql.functions import avg, min, max, stddev, desc\n",
        "import matplotlib.pyplot as plt"
      ],
      "metadata": {
        "id": "W3o0xX9AmhmF"
      },
      "execution_count": null,
      "outputs": []
    },
    {
      "cell_type": "code",
      "source": [
        "# Membuat spark session\n",
        "spark = SparkSession.builder.appName(\"Analisis ISPU\").getOrCreate()"
      ],
      "metadata": {
        "id": "0N7QSFg8misH"
      },
      "execution_count": null,
      "outputs": []
    },
    {
      "cell_type": "code",
      "source": [
        "# Membaca dan mengekstrak data\n",
        "df = spark.read.csv(\"/content/Data_ISPU.csv\", header=True)\n",
        "\n",
        "df.show(10)"
      ],
      "metadata": {
        "colab": {
          "base_uri": "https://localhost:8080/"
        },
        "id": "V5Cv1c8qpg3w",
        "outputId": "a0edfc33-767b-49ae-c446-c9b14c659072"
      },
      "execution_count": null,
      "outputs": [
        {
          "output_type": "stream",
          "name": "stdout",
          "text": [
            "+---------+------------------+----+---+---+---+---+---+--------+--------+\n",
            "|  tanggal|           stasiun|pm10|so2| co| o3|no2|max|critical|categori|\n",
            "+---------+------------------+----+---+---+---+---+---+--------+--------+\n",
            "| 1/1/2020|DKI1 (Bunderan HI)|  30| 20| 10| 32|  9| 32|      O3|    BAIK|\n",
            "| 2/1/2020|DKI1 (Bunderan HI)|  27| 22| 12| 29|  8| 29|      O3|    BAIK|\n",
            "| 3/1/2020|DKI1 (Bunderan HI)|  39| 22| 14| 32| 10| 39|    PM10|    BAIK|\n",
            "| 4/1/2020|DKI1 (Bunderan HI)|  34| 22| 14| 38| 10| 38|      O3|    BAIK|\n",
            "| 5/1/2020|DKI1 (Bunderan HI)|  35| 22| 12| 31|  9| 35|    PM10|    BAIK|\n",
            "| 6/1/2020|DKI1 (Bunderan HI)|  46| 23| 16| 32|  9| 46|    PM10|    BAIK|\n",
            "| 7/1/2020|DKI1 (Bunderan HI)|  37| 23| 26| 33| 11| 37|    PM10|    BAIK|\n",
            "| 8/1/2020|DKI1 (Bunderan HI)|  41| 26| 20| 30| 11| 41|    PM10|    BAIK|\n",
            "| 9/1/2020|DKI1 (Bunderan HI)|  52| 23| 29| 24| 12| 52|    PM10|  SEDANG|\n",
            "|10/1/2020|DKI1 (Bunderan HI)|  24| 24| 18| 25|  8| 25|      O3|    BAIK|\n",
            "+---------+------------------+----+---+---+---+---+---+--------+--------+\n",
            "only showing top 10 rows\n",
            "\n"
          ]
        }
      ]
    },
    {
      "cell_type": "code",
      "source": [
        "# Mengetahui banyaknya baris pada data\n",
        "df.count()"
      ],
      "metadata": {
        "colab": {
          "base_uri": "https://localhost:8080/"
        },
        "id": "rqMNP4krwsL9",
        "outputId": "95a52f5c-ebfd-4649-f9c7-366fa2129475"
      },
      "execution_count": null,
      "outputs": [
        {
          "output_type": "execute_result",
          "data": {
            "text/plain": [
              "1830"
            ]
          },
          "metadata": {},
          "execution_count": 5
        }
      ]
    },
    {
      "cell_type": "code",
      "source": [
        "# Menghapus barisan data yang tidak lengkap\n",
        "df = df.dropna()"
      ],
      "metadata": {
        "id": "_v6lv2LtxvRN"
      },
      "execution_count": null,
      "outputs": []
    },
    {
      "cell_type": "code",
      "source": [
        "# Melihat kembali banyaknya baris pada data\n",
        "df.count()"
      ],
      "metadata": {
        "colab": {
          "base_uri": "https://localhost:8080/"
        },
        "id": "tZ-PcnQ3xwj8",
        "outputId": "c58415fb-132f-4231-a941-3da3b5b62494"
      },
      "execution_count": null,
      "outputs": [
        {
          "output_type": "execute_result",
          "data": {
            "text/plain": [
              "1673"
            ]
          },
          "metadata": {},
          "execution_count": 7
        }
      ]
    },
    {
      "cell_type": "code",
      "source": [
        "# Melihat tipe data dari masing-masing kolom\n",
        "df.dtypes"
      ],
      "metadata": {
        "colab": {
          "base_uri": "https://localhost:8080/"
        },
        "id": "sGY3_mlLvD1o",
        "outputId": "1530f674-76f4-4116-d411-c42a76b9c70d"
      },
      "execution_count": null,
      "outputs": [
        {
          "output_type": "execute_result",
          "data": {
            "text/plain": [
              "[('tanggal', 'string'),\n",
              " ('stasiun', 'string'),\n",
              " ('pm10', 'string'),\n",
              " ('so2', 'string'),\n",
              " ('co', 'string'),\n",
              " ('o3', 'string'),\n",
              " ('no2', 'string'),\n",
              " ('max', 'string'),\n",
              " ('critical', 'string'),\n",
              " ('categori', 'string')]"
            ]
          },
          "metadata": {},
          "execution_count": 8
        }
      ]
    },
    {
      "cell_type": "code",
      "source": [
        "# Mengganti tipe data menjadi tipe yang sesuai\n",
        "df = df.withColumn(\"pm10\", df[\"pm10\"].cast('int'))\n",
        "df = df.withColumn(\"so2\", df[\"so2\"].cast('int'))\n",
        "df = df.withColumn(\"co\", df[\"co\"].cast('int'))\n",
        "df = df.withColumn(\"o3\", df[\"o3\"].cast('int'))\n",
        "df = df.withColumn(\"no2\", df[\"no2\"].cast('int'))\n",
        "df = df.withColumn(\"max\", df[\"max\"].cast('int'))"
      ],
      "metadata": {
        "id": "dnZVAEBjyNpp"
      },
      "execution_count": null,
      "outputs": []
    },
    {
      "cell_type": "code",
      "source": [
        "# Mengubah pyspark df ke pandas df\n",
        "# Lalu, ekstrak kembali data yang sudah bersih ke csv untuk proses visualisasi di looker studio\n",
        "df.toPandas().to_csv('Data_ISPU_clean.csv')"
      ],
      "metadata": {
        "id": "FwVJicMw-0El"
      },
      "execution_count": null,
      "outputs": []
    },
    {
      "cell_type": "markdown",
      "source": [
        "# **Analisis dan Visualisasi Data**"
      ],
      "metadata": {
        "id": "mp3N5_Q473py"
      }
    },
    {
      "cell_type": "code",
      "source": [
        "# Melihat statistik dari masing-masing senyawa yang terkandung di udara\n",
        "df.describe(\"pm10\", \"so2\", \"co\", \"o3\", \"no2\", \"max\").show()"
      ],
      "metadata": {
        "colab": {
          "base_uri": "https://localhost:8080/"
        },
        "id": "pt0fKv8Y_9Cm",
        "outputId": "7c79cbbe-3310-47a2-ac63-29731ee4ef77"
      },
      "execution_count": null,
      "outputs": [
        {
          "output_type": "stream",
          "name": "stdout",
          "text": [
            "+-------+------------------+------------------+------------------+------------------+------------------+-----------------+\n",
            "|summary|              pm10|               so2|                co|                o3|               no2|              max|\n",
            "+-------+------------------+------------------+------------------+------------------+------------------+-----------------+\n",
            "|  count|              1673|              1673|              1673|              1673|              1673|             1673|\n",
            "|   mean| 49.09683203825463|23.160789001793187|21.457262402869098| 53.38971906754333|18.702331141661684|68.26300059772863|\n",
            "| stddev|17.623017944980827| 16.21409813478605| 22.83052280802352|30.036778723048727| 25.86780620138816|23.14134175900994|\n",
            "|    min|                 3|                 1|                 3|                 2|                 1|               17|\n",
            "|    max|               111|               112|               197|               191|               197|              197|\n",
            "+-------+------------------+------------------+------------------+------------------+------------------+-----------------+\n",
            "\n"
          ]
        }
      ]
    },
    {
      "cell_type": "code",
      "source": [
        "# Analisis data dengan spark sql\n",
        "# Membuat temporary tabel\n",
        "df.createOrReplaceTempView(\"data_ISPU\")"
      ],
      "metadata": {
        "id": "9QSyaUbc6CsF"
      },
      "execution_count": null,
      "outputs": []
    },
    {
      "cell_type": "markdown",
      "source": [
        "**Analisis 1**"
      ],
      "metadata": {
        "id": "_pzYe3V779c1"
      }
    },
    {
      "cell_type": "code",
      "source": [
        "# (Analisis 1) Kualitas Udara Masing-masing Stasiun\n",
        "a1 = spark.sql(\"\"\"\n",
        "  SELECT\n",
        "    stasiun,\n",
        "    categori,\n",
        "    COUNT(categori)\n",
        "  FROM data_ISPU\n",
        "  GROUP BY stasiun, categori\n",
        "  ORDER BY stasiun, categori\n",
        "\"\"\"\n",
        ")\n",
        "\n",
        "# Menampilkan tabel: Kualitas Udara Masing-masing Stasiun\n",
        "a1.show()"
      ],
      "metadata": {
        "id": "WqnmslTW8B3O",
        "colab": {
          "base_uri": "https://localhost:8080/"
        },
        "outputId": "cd348350-56e7-4546-e76b-d691b799c7b9"
      },
      "execution_count": null,
      "outputs": [
        {
          "output_type": "stream",
          "name": "stdout",
          "text": [
            "+--------------------+-----------+---------------+\n",
            "|             stasiun|   categori|count(categori)|\n",
            "+--------------------+-----------+---------------+\n",
            "|  DKI1 (Bunderan HI)|       BAIK|            120|\n",
            "|  DKI1 (Bunderan HI)|     SEDANG|            230|\n",
            "|  DKI1 (Bunderan HI)|TIDAK SEHAT|              4|\n",
            "|DKI2 (Kelapa Gading)|       BAIK|             75|\n",
            "|DKI2 (Kelapa Gading)|     SEDANG|            249|\n",
            "|DKI2 (Kelapa Gading)|TIDAK SEHAT|             31|\n",
            "|    DKI3 (Jagakarsa)|       BAIK|             40|\n",
            "|    DKI3 (Jagakarsa)|     SEDANG|            254|\n",
            "|    DKI3 (Jagakarsa)|TIDAK SEHAT|             31|\n",
            "| DKI4 (Lubang Buaya)|       BAIK|             46|\n",
            "| DKI4 (Lubang Buaya)|     SEDANG|            252|\n",
            "| DKI4 (Lubang Buaya)|TIDAK SEHAT|             21|\n",
            "|  DKI5 (Kebon Jeruk)|       BAIK|             48|\n",
            "|  DKI5 (Kebon Jeruk)|     SEDANG|            220|\n",
            "|  DKI5 (Kebon Jeruk)|TIDAK SEHAT|             52|\n",
            "+--------------------+-----------+---------------+\n",
            "\n"
          ]
        }
      ]
    },
    {
      "cell_type": "markdown",
      "source": [
        "**Analisis 2**"
      ],
      "metadata": {
        "id": "B9opVwuh8Blt"
      }
    },
    {
      "cell_type": "code",
      "source": [
        "# (Analisis 2) Jumlah Nilai Indeks Polutan Setiap Stasiun\n",
        "a2 = spark.sql(\"\"\"\n",
        "  SELECT\n",
        "    stasiun,\n",
        "    SUM(pm10) AS jumlah_pm10,\n",
        "    SUM(so2) AS jumlah_so2,\n",
        "    SUM(co) AS jumlah_co,\n",
        "    SUM(o3) AS jumlah_o3,\n",
        "    SUM(no2) AS jumlah_no2\n",
        "  FROM data_ISPU\n",
        "  GROUP BY stasiun\n",
        "  ORDER BY jumlah_pm10 ASC\n",
        "\"\"\"\n",
        ")\n",
        "\n",
        "# Menampilkan tabel: Jumlah Nilai Indeks Polutan Setiap Stasiun\n",
        "a2.show()"
      ],
      "metadata": {
        "id": "x_fc5BZb4ShB",
        "colab": {
          "base_uri": "https://localhost:8080/"
        },
        "outputId": "16057871-2787-4a1f-b3bc-eb5d37e8ded2"
      },
      "execution_count": null,
      "outputs": [
        {
          "output_type": "stream",
          "name": "stdout",
          "text": [
            "+--------------------+-----------+----------+---------+---------+----------+\n",
            "|             stasiun|jumlah_pm10|jumlah_so2|jumlah_co|jumlah_o3|jumlah_no2|\n",
            "+--------------------+-----------+----------+---------+---------+----------+\n",
            "|  DKI5 (Kebon Jeruk)|      14724|      5924|     8509|    20784|      6200|\n",
            "|    DKI3 (Jagakarsa)|      15492|      8519|     8602|    17959|      5769|\n",
            "|  DKI1 (Bunderan HI)|      15897|      7189|     4694|    14856|      6422|\n",
            "|DKI2 (Kelapa Gading)|      17662|      8265|     5975|    19112|      7082|\n",
            "| DKI4 (Lubang Buaya)|      18364|      8851|     8118|    16610|      5816|\n",
            "+--------------------+-----------+----------+---------+---------+----------+\n",
            "\n"
          ]
        }
      ]
    },
    {
      "cell_type": "code",
      "source": [
        "a2.toPandas().to_csv('Data_Analisis_2.csv')"
      ],
      "metadata": {
        "id": "OEaElX0TWzvK"
      },
      "execution_count": null,
      "outputs": []
    },
    {
      "cell_type": "markdown",
      "source": [
        "**Analisis 3**"
      ],
      "metadata": {
        "id": "SbsVaoeb8GVH"
      }
    },
    {
      "cell_type": "code",
      "source": [
        "# (Analisis 3) Rata-rata Nilai Indeks Polutan Berdasarkan Tanggal\n",
        "\n",
        "# Membuat tabel yang hanya terdiri dari kolom \"tanggal\", \"pm10\", \"so2\", \"co\", \"o3\", \"no2\"\n",
        "a3 = spark.sql(\"\"\"\n",
        "  SELECT\n",
        "    tanggal,\n",
        "    pm10,\n",
        "    so2,\n",
        "    co,\n",
        "    o3,\n",
        "    no2\n",
        "  FROM data_ISPU\n",
        "\"\"\"\n",
        ")"
      ],
      "metadata": {
        "id": "kt7Q8ES_MoSR"
      },
      "execution_count": null,
      "outputs": []
    },
    {
      "cell_type": "code",
      "source": [
        "import pandas as pd\n",
        "a3_pd = a3.toPandas() # Mengubah hasil menjadi pandas dataframe\n",
        "a3_pd[\"tanggal\"] = pd.to_datetime(a3_pd[\"tanggal\"]) # Mengubah tipe kolom \"tanggal\" dari object ke datetime\n",
        "\n",
        "a3_pd[\"hari\"] = a3_pd[\"tanggal\"].dt.day # Menambahkan kolom hari\n",
        "print(a3_pd)"
      ],
      "metadata": {
        "id": "JC0BQQjdMrWd",
        "colab": {
          "base_uri": "https://localhost:8080/"
        },
        "outputId": "1b2148fb-511e-4b2d-c900-3a292c2cc9cb"
      },
      "execution_count": null,
      "outputs": [
        {
          "output_type": "stream",
          "name": "stdout",
          "text": [
            "        tanggal  pm10  so2  co  o3  no2  hari\n",
            "0    2020-01-01    30   20  10  32    9     1\n",
            "1    2020-02-01    27   22  12  29    8     1\n",
            "2    2020-03-01    39   22  14  32   10     1\n",
            "3    2020-04-01    34   22  14  38   10     1\n",
            "4    2020-05-01    35   22  12  31    9     1\n",
            "...         ...   ...  ...  ..  ..  ...   ...\n",
            "1668 2020-12-24    29   31   9  28    2    24\n",
            "1669 2020-12-25    24   27   7  18    3    25\n",
            "1670 2020-12-28    22   33   5  35    3    28\n",
            "1671 2020-12-30    16    7   3  21    2    30\n",
            "1672 2020-12-31    18   13   6  24    3    31\n",
            "\n",
            "[1673 rows x 7 columns]\n"
          ]
        },
        {
          "output_type": "stream",
          "name": "stderr",
          "text": [
            "<ipython-input-17-bd30645de367>:3: UserWarning: Parsing dates in DD/MM/YYYY format when dayfirst=False (the default) was specified. This may lead to inconsistently parsed dates! Specify a format to ensure consistent parsing.\n",
            "  a3_pd[\"tanggal\"] = pd.to_datetime(a3_pd[\"tanggal\"]) # Mengubah tipe kolom \"tanggal\" dari object ke datetime\n"
          ]
        }
      ]
    },
    {
      "cell_type": "code",
      "source": [
        "a3_py = spark.createDataFrame(a3_pd)\n",
        "a3_py.show()\n",
        "\n",
        "# Membuat temporary tabel\n",
        "a3_py.createOrReplaceTempView(\"data_analisis3\")"
      ],
      "metadata": {
        "id": "C2i3i56KM3HX",
        "colab": {
          "base_uri": "https://localhost:8080/"
        },
        "outputId": "00a1580a-5d67-42f3-fff9-7741650e8c6c"
      },
      "execution_count": null,
      "outputs": [
        {
          "output_type": "stream",
          "name": "stdout",
          "text": [
            "+-------------------+----+---+---+---+---+----+\n",
            "|            tanggal|pm10|so2| co| o3|no2|hari|\n",
            "+-------------------+----+---+---+---+---+----+\n",
            "|2020-01-01 00:00:00|  30| 20| 10| 32|  9|   1|\n",
            "|2020-02-01 00:00:00|  27| 22| 12| 29|  8|   1|\n",
            "|2020-03-01 00:00:00|  39| 22| 14| 32| 10|   1|\n",
            "|2020-04-01 00:00:00|  34| 22| 14| 38| 10|   1|\n",
            "|2020-05-01 00:00:00|  35| 22| 12| 31|  9|   1|\n",
            "|2020-06-01 00:00:00|  46| 23| 16| 32|  9|   1|\n",
            "|2020-07-01 00:00:00|  37| 23| 26| 33| 11|   1|\n",
            "|2020-08-01 00:00:00|  41| 26| 20| 30| 11|   1|\n",
            "|2020-09-01 00:00:00|  52| 23| 29| 24| 12|   1|\n",
            "|2020-10-01 00:00:00|  24| 24| 18| 25|  8|   1|\n",
            "|2020-11-01 00:00:00|  34| 31| 25| 23|  8|   1|\n",
            "|2020-12-01 00:00:00|  27| 23|  9| 33|  4|   1|\n",
            "|2020-01-13 00:00:00|  33| 26| 12| 36|  8|  13|\n",
            "|2020-01-14 00:00:00|  34| 28| 13| 27|  7|  14|\n",
            "|2020-01-15 00:00:00|  29| 22| 13| 36|  8|  15|\n",
            "|2020-01-16 00:00:00|  52| 60| 19| 30|  8|  16|\n",
            "|2020-01-17 00:00:00|  51| 34| 21| 74| 20|  17|\n",
            "|2020-01-18 00:00:00|  37| 29| 14| 31|  6|  18|\n",
            "|2020-01-19 00:00:00|  61| 34| 36| 58| 15|  19|\n",
            "|2020-01-20 00:00:00|  47| 30| 15| 33|  9|  20|\n",
            "+-------------------+----+---+---+---+---+----+\n",
            "only showing top 20 rows\n",
            "\n"
          ]
        }
      ]
    },
    {
      "cell_type": "code",
      "source": [
        "# Membuat tabel: Rata-rata Nilai Indeks Polutan Berdasarkan Tanggal\n",
        "a_3a = spark.sql(\"\"\"\n",
        "  SELECT\n",
        "    hari,\n",
        "    CAST(AVG(pm10) AS DECIMAL(5,2)) AS avg_pm10,\n",
        "    CAST(AVG(so2) AS DECIMAL(5,2)) AS avg_so2,\n",
        "    CAST(AVG(co) AS DECIMAL(5,2)) AS avg_co,\n",
        "    CAST(AVG(o3) AS DECIMAL(5,2)) AS avg_o3,\n",
        "    CAST(AVG(no2) AS DECIMAL(5,2)) AS avg_no2\n",
        "  FROM data_analisis3\n",
        "  GROUP BY hari\n",
        "  ORDER BY hari ASC\n",
        "\"\"\"\n",
        ")\n",
        "\n",
        "# Menampilkan tabel: Rata-rata Nilai Indeks Polutan Berdasarkan Tanggal\n",
        "a_3a.show(31)"
      ],
      "metadata": {
        "id": "f6g_96HiM6qb",
        "colab": {
          "base_uri": "https://localhost:8080/"
        },
        "outputId": "f57775e9-77f0-4be1-a1e9-283e7b95cfb7"
      },
      "execution_count": null,
      "outputs": [
        {
          "output_type": "stream",
          "name": "stdout",
          "text": [
            "+----+--------+-------+------+------+-------+\n",
            "|hari|avg_pm10|avg_so2|avg_co|avg_o3|avg_no2|\n",
            "+----+--------+-------+------+------+-------+\n",
            "|   1|   43.10|  20.44| 20.40| 45.28|   7.42|\n",
            "|   2|   46.65|  15.75| 25.24| 47.80|   8.65|\n",
            "|   3|   13.53|  21.98| 54.63|  8.37|  58.35|\n",
            "|   4|   48.12|  14.00| 13.80| 61.55|   6.24|\n",
            "|   5|   51.94|  13.75| 13.04| 56.50|   7.42|\n",
            "|   6|   54.67|  15.36| 13.16| 60.00|   7.81|\n",
            "|   7|   61.49|  19.59| 12.31| 65.81|   9.59|\n",
            "|   8|   67.92|  20.34| 13.73| 74.41|   9.39|\n",
            "|   9|   61.79|  24.00|  9.86| 83.40|   8.79|\n",
            "|  10|   52.32|  19.14| 41.56| 52.90|  42.00|\n",
            "|  11|   56.17|  61.81| 23.59| 38.14|  41.31|\n",
            "|  12|   31.33|  33.02|  7.53| 33.61|   6.98|\n",
            "|  13|   48.92|  23.38| 19.17| 53.43|  17.53|\n",
            "|  14|   48.90|  25.88| 29.34| 51.44|  30.52|\n",
            "|  15|   49.96|  22.65| 25.13| 51.00|  21.04|\n",
            "|  16|   50.49|  24.27| 24.56| 49.24|  21.16|\n",
            "|  17|   48.98|  24.07| 24.12| 59.16|  22.37|\n",
            "|  18|   47.95|  23.10| 22.50| 56.17|  19.64|\n",
            "|  19|   53.36|  24.39| 22.39| 60.04|  18.11|\n",
            "|  20|   48.85|  23.29| 18.40| 46.94|  16.08|\n",
            "|  21|   43.79|  23.26| 20.72| 48.92|  17.21|\n",
            "|  22|   52.14|  22.77| 19.89| 48.11|  14.93|\n",
            "|  23|   47.98|  23.79| 19.23| 55.13|  16.11|\n",
            "|  24|   47.53|  22.36| 20.09| 53.47|  18.62|\n",
            "|  25|   46.96|  22.16| 21.07| 51.11|  16.53|\n",
            "|  26|   50.70|  23.19| 21.24| 58.39|  17.72|\n",
            "|  27|   44.70|  21.83| 17.69| 57.80|  15.56|\n",
            "|  28|   50.09|  23.53| 27.23| 59.91|  26.64|\n",
            "|  29|   49.85|  21.09| 23.42| 57.45|  19.07|\n",
            "|  30|   48.17|  20.08| 21.50| 49.90|  18.15|\n",
            "|  31|   42.94|  18.15| 23.61| 50.27|  22.70|\n",
            "+----+--------+-------+------+------+-------+\n",
            "\n"
          ]
        }
      ]
    },
    {
      "cell_type": "code",
      "source": [
        "a_3a.toPandas().to_csv('Data_Analisis_3.csv')"
      ],
      "metadata": {
        "id": "ccxDc4nz6vYl"
      },
      "execution_count": null,
      "outputs": []
    },
    {
      "cell_type": "markdown",
      "source": [
        "**Analisis 4**"
      ],
      "metadata": {
        "id": "IFM86oXC8ZhG"
      }
    },
    {
      "cell_type": "code",
      "source": [
        "# (Analisis 4) Rata-rata Nilai Indeks Polutan Setiap Kategori\n",
        "\n",
        "a4 = spark.sql(\"\"\"\n",
        "  SELECT\n",
        "    categori,\n",
        "    CAST(AVG(pm10+so2+co+o3+no2) AS DECIMAL(5,2)) AS avg_jmlh,\n",
        "    CAST(AVG(pm10) AS DECIMAL(5,2)) AS avg_pm10,\n",
        "    CAST(AVG(so2) AS DECIMAL(5,2)) AS avg_so2,\n",
        "    CAST(AVG(co) AS DECIMAL(5,2)) AS avg_co,\n",
        "    CAST(AVG(o3) AS DECIMAL(5,2)) AS avg_o3,\n",
        "    CAST(AVG(no2) AS DECIMAL(5,2)) AS avg_no2\n",
        "  FROM data_ISPU\n",
        "  GROUP BY categori\n",
        "  ORDER BY avg_jmlh ASC\n",
        "\"\"\"\n",
        ")\n",
        "\n",
        "a4.show()"
      ],
      "metadata": {
        "id": "z_yQTGrKa2bm",
        "colab": {
          "base_uri": "https://localhost:8080/"
        },
        "outputId": "0e1589e3-54e7-4c84-8119-1e52a8c8bea2"
      },
      "execution_count": null,
      "outputs": [
        {
          "output_type": "stream",
          "name": "stdout",
          "text": [
            "+-----------+--------+--------+-------+------+------+-------+\n",
            "|   categori|avg_jmlh|avg_pm10|avg_so2|avg_co|avg_o3|avg_no2|\n",
            "+-----------+--------+--------+-------+------+------+-------+\n",
            "|       BAIK|  108.14|   30.96|  19.52| 15.12| 31.13|  11.41|\n",
            "|     SEDANG|  172.19|   53.53|  23.80| 20.71| 56.00|  18.15|\n",
            "|TIDAK SEHAT|  246.94|   53.57|  26.19| 42.96| 83.43|  40.79|\n",
            "+-----------+--------+--------+-------+------+------+-------+\n",
            "\n"
          ]
        }
      ]
    },
    {
      "cell_type": "code",
      "source": [
        "a4.toPandas().to_csv('Data_Analisis_4.csv')"
      ],
      "metadata": {
        "id": "87-sqKysoI8v"
      },
      "execution_count": null,
      "outputs": []
    },
    {
      "cell_type": "markdown",
      "source": [
        "**Analisis 5**"
      ],
      "metadata": {
        "id": "R3U8Irx78ca0"
      }
    },
    {
      "cell_type": "code",
      "source": [
        "# (Analisis 5) Jenis Polutan Paling Kritis Setiap Bulan\n",
        "\n",
        "a5 = spark.sql(\"\"\"\n",
        "  SELECT\n",
        "    tanggal,\n",
        "    pm10,\n",
        "    so2,\n",
        "    co,\n",
        "    o3,\n",
        "    no2,\n",
        "    critical\n",
        "  FROM data_ISPU\n",
        "\"\"\"\n",
        ")\n",
        "\n",
        "a5.show(5)"
      ],
      "metadata": {
        "id": "tDsVmTrwSX2q",
        "colab": {
          "base_uri": "https://localhost:8080/"
        },
        "outputId": "dddc595c-1ce6-4599-cf87-a0fb66cd8d4a"
      },
      "execution_count": null,
      "outputs": [
        {
          "output_type": "stream",
          "name": "stdout",
          "text": [
            "+--------+----+---+---+---+---+--------+\n",
            "| tanggal|pm10|so2| co| o3|no2|critical|\n",
            "+--------+----+---+---+---+---+--------+\n",
            "|1/1/2020|  30| 20| 10| 32|  9|      O3|\n",
            "|2/1/2020|  27| 22| 12| 29|  8|      O3|\n",
            "|3/1/2020|  39| 22| 14| 32| 10|    PM10|\n",
            "|4/1/2020|  34| 22| 14| 38| 10|      O3|\n",
            "|5/1/2020|  35| 22| 12| 31|  9|    PM10|\n",
            "+--------+----+---+---+---+---+--------+\n",
            "only showing top 5 rows\n",
            "\n"
          ]
        }
      ]
    },
    {
      "cell_type": "code",
      "source": [
        "import pandas as pd\n",
        "a5_pd = a5.toPandas() # Mengubah hasil menjadi pandas dataframe\n",
        "a5_pd[\"tanggal\"] = pd.to_datetime(a5_pd[\"tanggal\"]) # Mengubah tipe kolom data dari object ke datetime\n",
        "\n",
        "a5_pd[\"bulan\"] = a5_pd[\"tanggal\"].dt.month\n",
        "print(a5_pd)"
      ],
      "metadata": {
        "id": "xkq-Mh8l81bC",
        "colab": {
          "base_uri": "https://localhost:8080/"
        },
        "outputId": "9a24efe3-9838-4f28-b5e1-4c21a782b6f7"
      },
      "execution_count": null,
      "outputs": [
        {
          "output_type": "stream",
          "name": "stdout",
          "text": [
            "        tanggal  pm10  so2  co  o3  no2 critical  bulan\n",
            "0    2020-01-01    30   20  10  32    9       O3      1\n",
            "1    2020-02-01    27   22  12  29    8       O3      2\n",
            "2    2020-03-01    39   22  14  32   10     PM10      3\n",
            "3    2020-04-01    34   22  14  38   10       O3      4\n",
            "4    2020-05-01    35   22  12  31    9     PM10      5\n",
            "...         ...   ...  ...  ..  ..  ...      ...    ...\n",
            "1668 2020-12-24    29   31   9  28    2      SO2     12\n",
            "1669 2020-12-25    24   27   7  18    3      SO2     12\n",
            "1670 2020-12-28    22   33   5  35    3       O3     12\n",
            "1671 2020-12-30    16    7   3  21    2       O3     12\n",
            "1672 2020-12-31    18   13   6  24    3       O3     12\n",
            "\n",
            "[1673 rows x 8 columns]\n"
          ]
        },
        {
          "output_type": "stream",
          "name": "stderr",
          "text": [
            "<ipython-input-24-3149a760ad48>:3: UserWarning: Parsing dates in DD/MM/YYYY format when dayfirst=False (the default) was specified. This may lead to inconsistently parsed dates! Specify a format to ensure consistent parsing.\n",
            "  a5_pd[\"tanggal\"] = pd.to_datetime(a5_pd[\"tanggal\"]) # Mengubah tipe kolom data dari object ke datetime\n"
          ]
        }
      ]
    },
    {
      "cell_type": "code",
      "source": [
        "a5_py = spark.createDataFrame(a5_pd)\n",
        "a5_py.show()\n",
        "\n",
        "# Membuat temporary tabel\n",
        "a5_py.createOrReplaceTempView(\"data_analisis5\")"
      ],
      "metadata": {
        "id": "JHHaEPieTqLU",
        "colab": {
          "base_uri": "https://localhost:8080/"
        },
        "outputId": "9cdc3fa7-9c7a-457d-a904-c3c37ce11c53"
      },
      "execution_count": null,
      "outputs": [
        {
          "output_type": "stream",
          "name": "stdout",
          "text": [
            "+-------------------+----+---+---+---+---+--------+-----+\n",
            "|            tanggal|pm10|so2| co| o3|no2|critical|bulan|\n",
            "+-------------------+----+---+---+---+---+--------+-----+\n",
            "|2020-01-01 00:00:00|  30| 20| 10| 32|  9|      O3|    1|\n",
            "|2020-02-01 00:00:00|  27| 22| 12| 29|  8|      O3|    2|\n",
            "|2020-03-01 00:00:00|  39| 22| 14| 32| 10|    PM10|    3|\n",
            "|2020-04-01 00:00:00|  34| 22| 14| 38| 10|      O3|    4|\n",
            "|2020-05-01 00:00:00|  35| 22| 12| 31|  9|    PM10|    5|\n",
            "|2020-06-01 00:00:00|  46| 23| 16| 32|  9|    PM10|    6|\n",
            "|2020-07-01 00:00:00|  37| 23| 26| 33| 11|    PM10|    7|\n",
            "|2020-08-01 00:00:00|  41| 26| 20| 30| 11|    PM10|    8|\n",
            "|2020-09-01 00:00:00|  52| 23| 29| 24| 12|    PM10|    9|\n",
            "|2020-10-01 00:00:00|  24| 24| 18| 25|  8|      O3|   10|\n",
            "|2020-11-01 00:00:00|  34| 31| 25| 23|  8|    PM10|   11|\n",
            "|2020-12-01 00:00:00|  27| 23|  9| 33|  4|      O3|   12|\n",
            "|2020-01-13 00:00:00|  33| 26| 12| 36|  8|      O3|    1|\n",
            "|2020-01-14 00:00:00|  34| 28| 13| 27|  7|    PM10|    1|\n",
            "|2020-01-15 00:00:00|  29| 22| 13| 36|  8|      O3|    1|\n",
            "|2020-01-16 00:00:00|  52| 60| 19| 30|  8|     SO2|    1|\n",
            "|2020-01-17 00:00:00|  51| 34| 21| 74| 20|      O3|    1|\n",
            "|2020-01-18 00:00:00|  37| 29| 14| 31|  6|    PM10|    1|\n",
            "|2020-01-19 00:00:00|  61| 34| 36| 58| 15|    PM10|    1|\n",
            "|2020-01-20 00:00:00|  47| 30| 15| 33|  9|    PM10|    1|\n",
            "+-------------------+----+---+---+---+---+--------+-----+\n",
            "only showing top 20 rows\n",
            "\n"
          ]
        }
      ]
    },
    {
      "cell_type": "code",
      "source": [
        "a5_a = spark.sql(\"\"\"\n",
        "  SELECT\n",
        "    bulan,\n",
        "    MAX(jumlah_critical) AS max_jumlah_critical\n",
        "  FROM (\n",
        "    SELECT\n",
        "      bulan,\n",
        "      critical,\n",
        "      COUNT(critical) AS jumlah_critical\n",
        "    FROM data_analisis5\n",
        "    GROUP BY bulan,critical\n",
        "  )\n",
        "  GROUP BY bulan\n",
        "  ORDER BY bulan\n",
        "\"\"\"\n",
        ")\n",
        "a5_a.show()"
      ],
      "metadata": {
        "colab": {
          "base_uri": "https://localhost:8080/"
        },
        "id": "EVqjHHdsCtDT",
        "outputId": "db8a8066-0e0c-49be-b5d6-2fea15772079"
      },
      "execution_count": null,
      "outputs": [
        {
          "output_type": "stream",
          "name": "stdout",
          "text": [
            "+-----+-------------------+\n",
            "|bulan|max_jumlah_critical|\n",
            "+-----+-------------------+\n",
            "|    1|                 70|\n",
            "|    2|                 75|\n",
            "|    3|                 69|\n",
            "|    4|                 78|\n",
            "|    5|                 92|\n",
            "|    6|                 70|\n",
            "|    7|                 76|\n",
            "|    8|                 75|\n",
            "|    9|                 96|\n",
            "|   10|                 75|\n",
            "|   11|                 48|\n",
            "|   12|                 73|\n",
            "+-----+-------------------+\n",
            "\n"
          ]
        }
      ]
    },
    {
      "cell_type": "code",
      "source": [
        "a5_b = spark.sql(\"\"\"\n",
        "  SELECT\n",
        "    bulan,\n",
        "    critical,\n",
        "    MAX(jumlah_critical) AS max_jumlah_critical\n",
        "  FROM (\n",
        "    SELECT\n",
        "      bulan,\n",
        "      critical,\n",
        "      COUNT(critical) AS jumlah_critical\n",
        "    FROM data_analisis5\n",
        "    GROUP BY bulan,critical\n",
        "  )\n",
        "  GROUP BY bulan, critical\n",
        "  HAVING max_jumlah_critical IN(70,75,69,78,92,76,96,48,73)\n",
        "  ORDER BY bulan\n",
        "\"\"\"\n",
        ")\n",
        "\n",
        "a5_b.show()"
      ],
      "metadata": {
        "id": "7RSoc5P-TzSP",
        "colab": {
          "base_uri": "https://localhost:8080/"
        },
        "outputId": "69750c4a-acba-4669-c3da-e7b8620de8f8"
      },
      "execution_count": null,
      "outputs": [
        {
          "output_type": "stream",
          "name": "stdout",
          "text": [
            "+-----+--------+-------------------+\n",
            "|bulan|critical|max_jumlah_critical|\n",
            "+-----+--------+-------------------+\n",
            "|    1|      O3|                 70|\n",
            "|    2|      O3|                 75|\n",
            "|    3|      CO|                 69|\n",
            "|    4|      O3|                 78|\n",
            "|    5|      O3|                 92|\n",
            "|    6|      O3|                 70|\n",
            "|    7|      O3|                 76|\n",
            "|    8|      O3|                 75|\n",
            "|    9|      O3|                 96|\n",
            "|   10|      O3|                 75|\n",
            "|   11|     SO2|                 48|\n",
            "|   11|      O3|                 48|\n",
            "|   12|      O3|                 73|\n",
            "+-----+--------+-------------------+\n",
            "\n"
          ]
        }
      ]
    },
    {
      "cell_type": "code",
      "source": [
        "a5_b.toPandas().to_csv('Data_Analisis_5.csv')"
      ],
      "metadata": {
        "id": "LhGvQ7lEanqm"
      },
      "execution_count": null,
      "outputs": []
    }
  ]
}